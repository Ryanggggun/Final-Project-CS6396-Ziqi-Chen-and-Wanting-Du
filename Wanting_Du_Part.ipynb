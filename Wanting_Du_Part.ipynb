{
 "cells": [
  {
   "cell_type": "code",
   "execution_count": null,
   "metadata": {},
   "outputs": [],
   "source": [
    "import pandas as pd\n",
    "import re\n",
    "import string\n",
    "import nltk\n",
    "from nltk.corpus import stopwords\n",
    "from nltk.stem import PorterStemmer"
   ]
  },
  {
   "cell_type": "markdown",
   "metadata": {},
   "source": [
    "## Read Data"
   ]
  },
  {
   "cell_type": "code",
   "execution_count": null,
   "metadata": {},
   "outputs": [],
   "source": [
    "# read data\n",
    "column_names = [\"sentiment\", \"title\", \"content\"]\n",
    "df = pd.read_csv('C:/Users/ROG/Desktop/train.csv', header=None, names=column_names)\n",
    "df['title'].fillna(\"\", inplace=True)\n",
    "df['sentiment'] = df['sentiment'] - 1"
   ]
  },
  {
   "cell_type": "markdown",
   "metadata": {},
   "source": [
    "## Data Cleaning and Preprocessing"
   ]
  },
  {
   "cell_type": "code",
   "execution_count": null,
   "metadata": {},
   "outputs": [],
   "source": [
    "def clean_text(text):\n",
    "    # HTML\n",
    "    text = re.sub(r'<.*?>', '', text)\n",
    "    # lowercase\n",
    "    text = text.lower()\n",
    "    # remove punctuation and numbers\n",
    "    text = re.sub(r'[%s]' % re.escape(string.punctuation), '', text)\n",
    "    text = re.sub(r'\\d+', '', text)\n",
    "    return text\n",
    "\n",
    "df['title_cleaned'] = df['title'].apply(clean_text)\n",
    "df['content_cleaned'] = df['content'].apply(clean_text)\n",
    "df[['title', 'title_cleaned', 'content', 'content_cleaned']].head()\n",
    "# stop words\n",
    "stop_words = set(stopwords.words('english'))\n",
    "def remove_stopwords(text):\n",
    "    return \" \".join([word for word in text.split() if word not in stop_words])\n",
    "\n",
    "df['title_cleaned'] = df['title_cleaned'].apply(remove_stopwords)\n",
    "df['content_cleaned'] = df['content_cleaned'].apply(remove_stopwords)\n",
    "df[['title', 'title_cleaned', 'content', 'content_cleaned']].head()\n",
    "# Stem Extraction\n",
    "stemmer = PorterStemmer()\n",
    "def stem_text(text):\n",
    "    return \" \".join([stemmer.stem(word) for word in text.split()])\n",
    "\n",
    "df['title_cleaned'] = df['title_cleaned'].apply(stem_text)\n",
    "df['content_cleaned'] = df['content_cleaned'].apply(stem_text)\n",
    "\n",
    "df[['title', 'title_cleaned', 'content', 'content_cleaned']].head()"
   ]
  },
  {
   "cell_type": "markdown",
   "metadata": {},
   "source": [
    "## Data Description and Visualization"
   ]
  },
  {
   "cell_type": "code",
   "execution_count": null,
   "metadata": {},
   "outputs": [],
   "source": [
    "import matplotlib.pyplot as plt\n",
    "import seaborn as sns\n",
    "from wordcloud import WordCloud\n",
    "from collections import Counter\n",
    "\n",
    "# style setting\n",
    "sns.set_style(\"whitegrid\")\n",
    "\n",
    "# 1. sentiment distribution\n",
    "plt.figure(figsize=(8, 5))\n",
    "sns.countplot(data=df, x='sentiment')\n",
    "plt.title('Sentiment Distribution')\n",
    "plt.xlabel('Sentiment')\n",
    "plt.ylabel('Number of Reviews')\n",
    "plt.show()\n",
    "\n",
    "# 2. length distrition\n",
    "df['content_length'] = df['content'].apply(lambda x: len(x.split()))\n",
    "plt.figure(figsize=(8, 5))\n",
    "sns.histplot(df['content_length'], bins=50, color='blue')\n",
    "plt.title('Distribution of Review Lengths')\n",
    "plt.xlabel('Review Length (number of words)')\n",
    "plt.ylabel('Number of Reviews')\n",
    "plt.xlim(0, 200)  # Limiting to 200 for better visibility\n",
    "plt.show()\n",
    "\n",
    "# 3. common words\n",
    "positive_words = ' '.join(df[df['sentiment'] == 1]['title_cleaned'])\n",
    "negative_words = ' '.join(df[df['sentiment'] == 0]['title_cleaned'])\n",
    "positive_word_freq = Counter(positive_words.split())\n",
    "negative_word_freq = Counter(negative_words.split())\n",
    "# top10\n",
    "top10_positive_words = positive_word_freq.most_common(10)\n",
    "top10_negative_words = negative_word_freq.most_common(10)\n",
    "\n",
    "plt.figure(figsize=(14, 6))\n",
    "# Positive Titles Word Frequency\n",
    "plt.subplot(1, 2, 1)\n",
    "sns.barplot(x=[item[1] for item in top10_positive_words], \n",
    "            y=[item[0] for item in top10_positive_words], palette=\"viridis\")\n",
    "plt.title('Top 10 Words in Positive Titles')\n",
    "plt.xlabel('Frequency')\n",
    "\n",
    "# Negative Titles Word Frequency\n",
    "plt.subplot(1, 2, 2)\n",
    "sns.barplot(x=[item[1] for item in top10_negative_words], \n",
    "            y=[item[0] for item in top10_negative_words], palette=\"viridis\")\n",
    "plt.title('Top 10 Words in Negative Titles')\n",
    "plt.xlabel('Frequency')\n",
    "\n",
    "plt.tight_layout()\n",
    "plt.show()\n",
    "\n",
    "# 4. word cloud\n",
    "plt.figure(figsize=(12, 6))\n",
    "\n",
    "# Positive Word Cloud\n",
    "plt.subplot(1, 2, 1)\n",
    "wordcloud = WordCloud(background_color=\"white\", max_words=100).generate(positive_words)\n",
    "plt.imshow(wordcloud, interpolation='bilinear')\n",
    "plt.axis('off')\n",
    "plt.title('Positive Reviews Word Cloud')\n",
    "\n",
    "# Negative Word Cloud\n",
    "plt.subplot(1, 2, 2)\n",
    "wordcloud = WordCloud(background_color=\"white\", max_words=100).generate(negative_words)\n",
    "plt.imshow(wordcloud, interpolation='bilinear')\n",
    "plt.axis('off')\n",
    "plt.title('Negative Reviews Word Cloud')\n",
    "\n",
    "plt.tight_layout()\n",
    "plt.show()\n"
   ]
  }
 ],
 "metadata": {
  "language_info": {
   "name": "python"
  }
 },
 "nbformat": 4,
 "nbformat_minor": 2
}
